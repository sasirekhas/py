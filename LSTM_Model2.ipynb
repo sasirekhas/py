{
 "cells": [
  {
   "cell_type": "code",
   "execution_count": 1,
   "metadata": {},
   "outputs": [
    {
     "name": "stderr",
     "output_type": "stream",
     "text": [
      "/usr/local/anaconda/python3/lib/python3.6/site-packages/h5py/__init__.py:34: FutureWarning: Conversion of the second argument of issubdtype from `float` to `np.floating` is deprecated. In future, it will be treated as `np.float64 == np.dtype(float).type`.\n",
      "  from ._conv import register_converters as _register_converters\n",
      "Using TensorFlow backend.\n"
     ]
    }
   ],
   "source": [
    "#One-Word-In and One-Word-Out Sequences \n",
    "from numpy import array\n",
    "from keras.preprocessing.text import Tokenizer\n",
    "from keras.utils import to_categorical\n",
    "from keras.utils.vis_utils import plot_model\n",
    "from keras.models import Sequential\n",
    "from keras.layers import Dense\n",
    "from keras.layers import LSTM\n",
    "from keras.layers import Embedding"
   ]
  },
  {
   "cell_type": "code",
   "execution_count": 4,
   "metadata": {
    "collapsed": true
   },
   "outputs": [],
   "source": [
    "# define the model\n",
    "def define_model(vocab_size):\n",
    "\tmodel = Sequential()\n",
    "\tmodel.add(Embedding(vocab_size, 10, input_length=1)) #real valued vector for each word (input sequence contains single word)\n",
    "\tmodel.add(LSTM(50))\n",
    "\tmodel.add(Dense(vocab_size, activation='softmax'))\n",
    "\t# compile network\n",
    "\tmodel.compile(loss='categorical_crossentropy', optimizer='adam', metrics=['accuracy'])\n",
    "\treturn model\n",
    "\n"
   ]
  },
  {
   "cell_type": "code",
   "execution_count": 5,
   "metadata": {
    "collapsed": true
   },
   "outputs": [],
   "source": [
    "# generate a sequence from the model\n",
    "def generate_seq(model, tokenizer, seed_text, n_words):\n",
    "\tin_text, result = seed_text, seed_text\n",
    "\t# generate a fixed number of words\n",
    "\tfor _ in range(n_words):\n",
    "\t\t# encode the text as integer\n",
    "\t\tencoded = tokenizer.texts_to_sequences([in_text])[0]\n",
    "\t\tencoded = array(encoded)\n",
    "\t\t# predict a word in the vocabulary\n",
    "\t\tyhat = model.predict_classes(encoded, verbose=0)\n",
    "\t\t# map predicted word index to word\n",
    "\t\tout_word = ''\n",
    "\t\tfor word, index in tokenizer.word_index.items():\n",
    "\t\t\tif index == yhat:\n",
    "\t\t\t\tout_word = word\n",
    "\t\t\t\tbreak\n",
    "\t\t# append to input\n",
    "\t\tin_text, result = out_word, result + ' ' + out_word\n",
    "\treturn result"
   ]
  },
  {
   "cell_type": "code",
   "execution_count": 6,
   "metadata": {},
   "outputs": [
    {
     "name": "stdout",
     "output_type": "stream",
     "text": [
      "Vocabulary Size: 22\n"
     ]
    }
   ],
   "source": [
    "# source text\n",
    "data = \"\"\" Jack and Jill went up the hill\\n\n",
    "\t\tTo fetch a pail of water\\n\n",
    "\t\tJack fell down and broke his crown\\n\n",
    "\t\tAnd Jill came tumbling after\\n \"\"\"\n",
    "# integer encode text\n",
    "tokenizer = Tokenizer()\n",
    "tokenizer.fit_on_texts([data])\n",
    "encoded = tokenizer.texts_to_sequences([data])[0]\n",
    "# determine the vocabulary size\n",
    "vocab_size = len(tokenizer.word_index) + 1\n",
    "print('Vocabulary Size: %d' % vocab_size)\n"
   ]
  },
  {
   "cell_type": "code",
   "execution_count": 7,
   "metadata": {},
   "outputs": [
    {
     "data": {
      "text/plain": [
       "[2,\n",
       " 1,\n",
       " 3,\n",
       " 4,\n",
       " 5,\n",
       " 6,\n",
       " 7,\n",
       " 8,\n",
       " 9,\n",
       " 10,\n",
       " 11,\n",
       " 12,\n",
       " 13,\n",
       " 2,\n",
       " 14,\n",
       " 15,\n",
       " 1,\n",
       " 16,\n",
       " 17,\n",
       " 18,\n",
       " 1,\n",
       " 3,\n",
       " 19,\n",
       " 20,\n",
       " 21]"
      ]
     },
     "execution_count": 7,
     "metadata": {},
     "output_type": "execute_result"
    }
   ],
   "source": [
    "encoded"
   ]
  },
  {
   "cell_type": "code",
   "execution_count": 8,
   "metadata": {},
   "outputs": [
    {
     "name": "stdout",
     "output_type": "stream",
     "text": [
      "Total Sequences: 24\n"
     ]
    }
   ],
   "source": [
    "# create word -> word sequences\n",
    "sequences = list()\n",
    "for i in range(1, len(encoded)):\n",
    "\tsequence = encoded[i-1:i+1]\n",
    "\tsequences.append(sequence)\n",
    "print('Total Sequences: %d' % len(sequences))\n"
   ]
  },
  {
   "cell_type": "code",
   "execution_count": 9,
   "metadata": {},
   "outputs": [
    {
     "data": {
      "text/plain": [
       "[[2, 1],\n",
       " [1, 3],\n",
       " [3, 4],\n",
       " [4, 5],\n",
       " [5, 6],\n",
       " [6, 7],\n",
       " [7, 8],\n",
       " [8, 9],\n",
       " [9, 10],\n",
       " [10, 11],\n",
       " [11, 12],\n",
       " [12, 13],\n",
       " [13, 2],\n",
       " [2, 14],\n",
       " [14, 15],\n",
       " [15, 1],\n",
       " [1, 16],\n",
       " [16, 17],\n",
       " [17, 18],\n",
       " [18, 1],\n",
       " [1, 3],\n",
       " [3, 19],\n",
       " [19, 20],\n",
       " [20, 21]]"
      ]
     },
     "execution_count": 9,
     "metadata": {},
     "output_type": "execute_result"
    }
   ],
   "source": [
    "sequences"
   ]
  },
  {
   "cell_type": "code",
   "execution_count": 10,
   "metadata": {},
   "outputs": [
    {
     "name": "stdout",
     "output_type": "stream",
     "text": [
      "Epoch 1/100\n",
      " - 1s - loss: 3.0912 - acc: 0.0000e+00\n",
      "Epoch 2/100\n",
      " - 0s - loss: 3.0904 - acc: 0.0833\n",
      "Epoch 3/100\n",
      " - 0s - loss: 3.0896 - acc: 0.0833\n",
      "Epoch 4/100\n",
      " - 0s - loss: 3.0888 - acc: 0.1250\n",
      "Epoch 5/100\n",
      " - 0s - loss: 3.0881 - acc: 0.1250\n",
      "Epoch 6/100\n",
      " - 0s - loss: 3.0873 - acc: 0.1250\n",
      "Epoch 7/100\n",
      " - 0s - loss: 3.0865 - acc: 0.1250\n",
      "Epoch 8/100\n",
      " - 0s - loss: 3.0857 - acc: 0.1250\n",
      "Epoch 9/100\n",
      " - 0s - loss: 3.0849 - acc: 0.1250\n",
      "Epoch 10/100\n",
      " - 0s - loss: 3.0841 - acc: 0.1250\n",
      "Epoch 11/100\n",
      " - 0s - loss: 3.0832 - acc: 0.1250\n",
      "Epoch 12/100\n",
      " - 0s - loss: 3.0824 - acc: 0.1250\n",
      "Epoch 13/100\n",
      " - 0s - loss: 3.0815 - acc: 0.1250\n",
      "Epoch 14/100\n",
      " - 0s - loss: 3.0807 - acc: 0.1250\n",
      "Epoch 15/100\n",
      " - 0s - loss: 3.0798 - acc: 0.1250\n",
      "Epoch 16/100\n",
      " - 0s - loss: 3.0789 - acc: 0.1250\n",
      "Epoch 17/100\n",
      " - 0s - loss: 3.0780 - acc: 0.1250\n",
      "Epoch 18/100\n",
      " - 0s - loss: 3.0770 - acc: 0.1250\n",
      "Epoch 19/100\n",
      " - 0s - loss: 3.0761 - acc: 0.1250\n",
      "Epoch 20/100\n",
      " - 0s - loss: 3.0751 - acc: 0.1250\n",
      "Epoch 21/100\n",
      " - 0s - loss: 3.0741 - acc: 0.1250\n",
      "Epoch 22/100\n",
      " - 0s - loss: 3.0731 - acc: 0.1250\n",
      "Epoch 23/100\n",
      " - 0s - loss: 3.0720 - acc: 0.1250\n",
      "Epoch 24/100\n",
      " - 0s - loss: 3.0710 - acc: 0.1250\n",
      "Epoch 25/100\n",
      " - 0s - loss: 3.0698 - acc: 0.1250\n",
      "Epoch 26/100\n",
      " - 0s - loss: 3.0687 - acc: 0.1250\n",
      "Epoch 27/100\n",
      " - 0s - loss: 3.0675 - acc: 0.1250\n",
      "Epoch 28/100\n",
      " - 0s - loss: 3.0664 - acc: 0.1250\n",
      "Epoch 29/100\n",
      " - 0s - loss: 3.0651 - acc: 0.1250\n",
      "Epoch 30/100\n",
      " - 0s - loss: 3.0639 - acc: 0.1250\n",
      "Epoch 31/100\n",
      " - 0s - loss: 3.0626 - acc: 0.1250\n",
      "Epoch 32/100\n",
      " - 0s - loss: 3.0612 - acc: 0.1250\n",
      "Epoch 33/100\n",
      " - 0s - loss: 3.0599 - acc: 0.1250\n",
      "Epoch 34/100\n",
      " - 0s - loss: 3.0584 - acc: 0.1250\n",
      "Epoch 35/100\n",
      " - 0s - loss: 3.0570 - acc: 0.1250\n",
      "Epoch 36/100\n",
      " - 0s - loss: 3.0555 - acc: 0.1250\n",
      "Epoch 37/100\n",
      " - 0s - loss: 3.0540 - acc: 0.1250\n",
      "Epoch 38/100\n",
      " - 0s - loss: 3.0524 - acc: 0.1250\n",
      "Epoch 39/100\n",
      " - 0s - loss: 3.0508 - acc: 0.1250\n",
      "Epoch 40/100\n",
      " - 0s - loss: 3.0491 - acc: 0.1250\n",
      "Epoch 41/100\n",
      " - 0s - loss: 3.0474 - acc: 0.1250\n",
      "Epoch 42/100\n",
      " - 0s - loss: 3.0456 - acc: 0.1250\n",
      "Epoch 43/100\n",
      " - 0s - loss: 3.0437 - acc: 0.1250\n",
      "Epoch 44/100\n",
      " - 0s - loss: 3.0419 - acc: 0.1250\n",
      "Epoch 45/100\n",
      " - 0s - loss: 3.0399 - acc: 0.1250\n",
      "Epoch 46/100\n",
      " - 0s - loss: 3.0379 - acc: 0.1250\n",
      "Epoch 47/100\n",
      " - 0s - loss: 3.0359 - acc: 0.1250\n",
      "Epoch 48/100\n",
      " - 0s - loss: 3.0338 - acc: 0.1250\n",
      "Epoch 49/100\n",
      " - 0s - loss: 3.0316 - acc: 0.1250\n",
      "Epoch 50/100\n",
      " - 0s - loss: 3.0294 - acc: 0.1250\n",
      "Epoch 51/100\n",
      " - 0s - loss: 3.0270 - acc: 0.1250\n",
      "Epoch 52/100\n",
      " - 0s - loss: 3.0246 - acc: 0.1250\n",
      "Epoch 53/100\n",
      " - 0s - loss: 3.0222 - acc: 0.1250\n",
      "Epoch 54/100\n",
      " - 0s - loss: 3.0197 - acc: 0.1250\n",
      "Epoch 55/100\n",
      " - 0s - loss: 3.0171 - acc: 0.1250\n",
      "Epoch 56/100\n",
      " - 0s - loss: 3.0144 - acc: 0.1250\n",
      "Epoch 57/100\n",
      " - 0s - loss: 3.0117 - acc: 0.1250\n",
      "Epoch 58/100\n",
      " - 0s - loss: 3.0089 - acc: 0.1250\n",
      "Epoch 59/100\n",
      " - 0s - loss: 3.0060 - acc: 0.1250\n",
      "Epoch 60/100\n",
      " - 0s - loss: 3.0030 - acc: 0.1250\n",
      "Epoch 61/100\n",
      " - 0s - loss: 2.9999 - acc: 0.1250\n",
      "Epoch 62/100\n",
      " - 0s - loss: 2.9967 - acc: 0.1250\n",
      "Epoch 63/100\n",
      " - 0s - loss: 2.9935 - acc: 0.1250\n",
      "Epoch 64/100\n",
      " - 0s - loss: 2.9902 - acc: 0.1250\n",
      "Epoch 65/100\n",
      " - 0s - loss: 2.9867 - acc: 0.1250\n",
      "Epoch 66/100\n",
      " - 0s - loss: 2.9832 - acc: 0.1250\n",
      "Epoch 67/100\n",
      " - 0s - loss: 2.9796 - acc: 0.1250\n",
      "Epoch 68/100\n",
      " - 0s - loss: 2.9758 - acc: 0.1250\n",
      "Epoch 69/100\n",
      " - 0s - loss: 2.9720 - acc: 0.1250\n",
      "Epoch 70/100\n",
      " - 0s - loss: 2.9681 - acc: 0.1250\n",
      "Epoch 71/100\n",
      " - 0s - loss: 2.9640 - acc: 0.1250\n",
      "Epoch 72/100\n",
      " - 0s - loss: 2.9599 - acc: 0.1250\n",
      "Epoch 73/100\n",
      " - 0s - loss: 2.9556 - acc: 0.1250\n",
      "Epoch 74/100\n",
      " - 0s - loss: 2.9512 - acc: 0.2083\n",
      "Epoch 75/100\n",
      " - 0s - loss: 2.9468 - acc: 0.2083\n",
      "Epoch 76/100\n",
      " - 0s - loss: 2.9421 - acc: 0.2083\n",
      "Epoch 77/100\n",
      " - 0s - loss: 2.9374 - acc: 0.2083\n",
      "Epoch 78/100\n",
      " - 0s - loss: 2.9326 - acc: 0.2083\n",
      "Epoch 79/100\n",
      " - 0s - loss: 2.9276 - acc: 0.2083\n",
      "Epoch 80/100\n",
      " - 0s - loss: 2.9225 - acc: 0.2083\n",
      "Epoch 81/100\n",
      " - 0s - loss: 2.9173 - acc: 0.2083\n",
      "Epoch 82/100\n",
      " - 0s - loss: 2.9119 - acc: 0.2083\n",
      "Epoch 83/100\n",
      " - 0s - loss: 2.9064 - acc: 0.2083\n",
      "Epoch 84/100\n",
      " - 0s - loss: 2.9008 - acc: 0.2083\n",
      "Epoch 85/100\n",
      " - 0s - loss: 2.8950 - acc: 0.2083\n",
      "Epoch 86/100\n",
      " - 0s - loss: 2.8891 - acc: 0.2083\n",
      "Epoch 87/100\n",
      " - 0s - loss: 2.8830 - acc: 0.2083\n",
      "Epoch 88/100\n",
      " - 0s - loss: 2.8768 - acc: 0.2083\n",
      "Epoch 89/100\n",
      " - 0s - loss: 2.8705 - acc: 0.2083\n",
      "Epoch 90/100\n",
      " - 0s - loss: 2.8640 - acc: 0.2083\n",
      "Epoch 91/100\n",
      " - 0s - loss: 2.8574 - acc: 0.2083\n",
      "Epoch 92/100\n",
      " - 0s - loss: 2.8505 - acc: 0.2083\n",
      "Epoch 93/100\n",
      " - 0s - loss: 2.8436 - acc: 0.2083\n",
      "Epoch 94/100\n",
      " - 0s - loss: 2.8365 - acc: 0.2083\n",
      "Epoch 95/100\n",
      " - 0s - loss: 2.8293 - acc: 0.2083\n",
      "Epoch 96/100\n",
      " - 0s - loss: 2.8219 - acc: 0.2083\n",
      "Epoch 97/100\n",
      " - 0s - loss: 2.8143 - acc: 0.2083\n",
      "Epoch 98/100\n",
      " - 0s - loss: 2.8066 - acc: 0.2083\n",
      "Epoch 99/100\n",
      " - 0s - loss: 2.7987 - acc: 0.2083\n",
      "Epoch 100/100\n",
      " - 0s - loss: 2.7906 - acc: 0.2083\n",
      "Jack and jill and jill and jill\n"
     ]
    }
   ],
   "source": [
    "# split into X and y elements\n",
    "sequences = array(sequences)\n",
    "X, y = sequences[:,0],sequences[:,1]\n",
    "# one hot encode outputs\n",
    "y = to_categorical(y, num_classes=vocab_size)\n",
    "# define model\n",
    "model = define_model(vocab_size)\n",
    "# fit network\n",
    "model.fit(X, y, epochs=100, verbose=2)\n",
    "# evaluate\n",
    "print(generate_seq(model, tokenizer, 'Jack', 6))"
   ]
  },
  {
   "cell_type": "code",
   "execution_count": 16,
   "metadata": {},
   "outputs": [
    {
     "name": "stdout",
     "output_type": "stream",
     "text": [
      "Jack\n",
      "and\n"
     ]
    }
   ],
   "source": [
    "#Randomly check for any word\n",
    "# evaluate\n",
    "in_text = 'Jack'\n",
    "print(in_text)\n",
    "encoded = tokenizer.texts_to_sequences([in_text])[0]\n",
    "encoded = array(encoded)\n",
    "yhat = model.predict_classes(encoded, verbose=0)\n",
    "for word, index in tokenizer.word_index.items():\n",
    "\tif index == yhat:\n",
    "\t\tprint(word)"
   ]
  }
 ],
 "metadata": {
  "kernelspec": {
   "display_name": "Python 3",
   "language": "python",
   "name": "python3"
  },
  "language_info": {
   "codemirror_mode": {
    "name": "ipython",
    "version": 3
   },
   "file_extension": ".py",
   "mimetype": "text/x-python",
   "name": "python",
   "nbconvert_exporter": "python",
   "pygments_lexer": "ipython3",
   "version": "3.6.3"
  }
 },
 "nbformat": 4,
 "nbformat_minor": 2
}
