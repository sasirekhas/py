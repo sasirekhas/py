{
 "cells": [
  {
   "cell_type": "markdown",
   "metadata": {},
   "source": [
    "# House price prediction"
   ]
  },
  {
   "cell_type": "markdown",
   "metadata": {},
   "source": [
    "This dataset contains house sale prices for King County, which includes Seattle. It includes homes sold between May 2014 and May 2015. The data set is made available by kaggle. "
   ]
  },
  {
   "cell_type": "markdown",
   "metadata": {},
   "source": [
    "Some of the attributes that are captured in the dataset are\n",
    "\n",
    "No of bedrooms and bathrooms\n",
    "\n",
    "Total square feet of living\n",
    "\n",
    "How many floors\n",
    "\n",
    "Wether it has a basement and size of the basement\n",
    "\n",
    "Grade of the house\n",
    "\n",
    "Weather it has waterfront and the quality of the view\n",
    "\n",
    "When the house was built and if the house is renovated, if it is renovated?\n",
    "\n",
    "Latitude and longitude\n",
    "\n",
    "price of the house\n",
    "\n",
    "When the house was sold"
   ]
  },
  {
   "cell_type": "markdown",
   "metadata": {},
   "source": [
    "# We can do the following analysis using the library"
   ]
  },
  {
   "cell_type": "markdown",
   "metadata": {},
   "source": [
    "# Exploratory Analysis"
   ]
  },
  {
   "cell_type": "markdown",
   "metadata": {},
   "source": [
    "Plot a distribution and box plot for the price variable. \n",
    "\n",
    "Find out if there are any outliers and list them.\n",
    "\n",
    "Find out which variables are highly correlated with 'price'.\n",
    "\n",
    "Find out which zip codes have the highest median house 'price'. Do a bar plot to depict the top 10.\n",
    "\n",
    "Find out if there are any missing values in the dataset and your strategy for imputing those.\n",
    "\n",
    "Do some variables need feature engineering or transformation, if they need to be used to predict prices. Explain what transformations you will apply."
   ]
  },
  {
   "cell_type": "markdown",
   "metadata": {},
   "source": [
    "# Model Building"
   ]
  },
  {
   "cell_type": "markdown",
   "metadata": {},
   "source": [
    "Build a regression model to predict the prices"
   ]
  },
  {
   "cell_type": "markdown",
   "metadata": {},
   "source": [
    "# Evaluation"
   ]
  },
  {
   "cell_type": "markdown",
   "metadata": {},
   "source": [
    "Calculate the RMSE and R-Squared value on the test data set."
   ]
  },
  {
   "cell_type": "markdown",
   "metadata": {},
   "source": [
    "# Models Comparison"
   ]
  },
  {
   "cell_type": "markdown",
   "metadata": {},
   "source": [
    "Build the following models and find the best performing model with lowest RMSE value.\n",
    "\n",
    "Decision Tree\n",
    "\n",
    "Random Forest"
   ]
  },
  {
   "cell_type": "markdown",
   "metadata": {},
   "source": [
    "# Load the data set"
   ]
  },
  {
   "cell_type": "code",
   "execution_count": 1,
   "metadata": {
    "collapsed": true
   },
   "outputs": [],
   "source": [
    "from pyspark import SparkContext\n",
    "from pyspark.sql.session import SparkSession\n",
    "from pyspark.sql import SQLContext"
   ]
  },
  {
   "cell_type": "code",
   "execution_count": 2,
   "metadata": {
    "collapsed": true
   },
   "outputs": [],
   "source": [
    "sc = SparkContext()"
   ]
  },
  {
   "cell_type": "code",
   "execution_count": 3,
   "metadata": {},
   "outputs": [
    {
     "data": {
      "text/plain": [
       "u'2.2.0.cloudera2'"
      ]
     },
     "execution_count": 3,
     "metadata": {},
     "output_type": "execute_result"
    }
   ],
   "source": [
    "sc.version"
   ]
  },
  {
   "cell_type": "code",
   "execution_count": 4,
   "metadata": {
    "collapsed": true
   },
   "outputs": [],
   "source": [
    "spark = SparkSession(sc)"
   ]
  },
  {
   "cell_type": "code",
   "execution_count": 5,
   "metadata": {
    "collapsed": true
   },
   "outputs": [],
   "source": [
    "sqlContext = SQLContext(sc)"
   ]
  },
  {
   "cell_type": "code",
   "execution_count": 6,
   "metadata": {
    "collapsed": true
   },
   "outputs": [],
   "source": [
    "from pyspark.sql import HiveContext\n",
    "hiveContext = HiveContext(sc)"
   ]
  },
  {
   "cell_type": "code",
   "execution_count": 7,
   "metadata": {
    "collapsed": true
   },
   "outputs": [],
   "source": [
    "housing_df = sqlContext.read.load('/user/gl_faculty_greatlearning/kc3_house_data.csv', \n",
    "                          delimiter=',',\n",
    "                          format='com.databricks.spark.csv', \n",
    "                          header='true', \n",
    "                          inferSchema='true')"
   ]
  },
  {
   "cell_type": "markdown",
   "metadata": {},
   "source": [
    "How many records in the dataset?"
   ]
  },
  {
   "cell_type": "code",
   "execution_count": 8,
   "metadata": {},
   "outputs": [
    {
     "data": {
      "text/plain": [
       "21613"
      ]
     },
     "execution_count": 8,
     "metadata": {},
     "output_type": "execute_result"
    }
   ],
   "source": [
    "housing_df.count()"
   ]
  },
  {
   "cell_type": "code",
   "execution_count": 9,
   "metadata": {},
   "outputs": [
    {
     "data": {
      "text/plain": [
       "DataFrame[_c0: int, id: bigint, date: timestamp, price: double, bedrooms: int, bathrooms: double, sqft_living: int, sqft_lot: int, floors: double, waterfront: int, view: int, condition: int, grade: int, sqft_above: int, sqft_basement: int, yr_built: int, yr_renovated: int, zipcode: int, lat: double, long: double, sqft_living15: int, sqft_lot15: int]"
      ]
     },
     "execution_count": 9,
     "metadata": {},
     "output_type": "execute_result"
    }
   ],
   "source": [
    "housing_df.cache()"
   ]
  },
  {
   "cell_type": "code",
   "execution_count": 10,
   "metadata": {},
   "outputs": [
    {
     "name": "stdout",
     "output_type": "stream",
     "text": [
      "root\n",
      " |-- _c0: integer (nullable = true)\n",
      " |-- id: long (nullable = true)\n",
      " |-- date: timestamp (nullable = true)\n",
      " |-- price: double (nullable = true)\n",
      " |-- bedrooms: integer (nullable = true)\n",
      " |-- bathrooms: double (nullable = true)\n",
      " |-- sqft_living: integer (nullable = true)\n",
      " |-- sqft_lot: integer (nullable = true)\n",
      " |-- floors: double (nullable = true)\n",
      " |-- waterfront: integer (nullable = true)\n",
      " |-- view: integer (nullable = true)\n",
      " |-- condition: integer (nullable = true)\n",
      " |-- grade: integer (nullable = true)\n",
      " |-- sqft_above: integer (nullable = true)\n",
      " |-- sqft_basement: integer (nullable = true)\n",
      " |-- yr_built: integer (nullable = true)\n",
      " |-- yr_renovated: integer (nullable = true)\n",
      " |-- zipcode: integer (nullable = true)\n",
      " |-- lat: double (nullable = true)\n",
      " |-- long: double (nullable = true)\n",
      " |-- sqft_living15: integer (nullable = true)\n",
      " |-- sqft_lot15: integer (nullable = true)\n",
      "\n"
     ]
    }
   ],
   "source": [
    "housing_df.printSchema()"
   ]
  },
  {
   "cell_type": "markdown",
   "metadata": {},
   "source": [
    "Exploratory data analysis"
   ]
  },
  {
   "cell_type": "markdown",
   "metadata": {},
   "source": [
    "Summary Statistics of price and sqft_living"
   ]
  },
  {
   "cell_type": "code",
   "execution_count": 11,
   "metadata": {},
   "outputs": [
    {
     "name": "stdout",
     "output_type": "stream",
     "text": [
      "+-------+------------------+------------------+\n",
      "|summary|             price|       sqft_living|\n",
      "+-------+------------------+------------------+\n",
      "|  count|             21613|             21613|\n",
      "|   mean| 540182.1587933188|2079.8997362698374|\n",
      "| stddev|367362.23171800876| 918.4408970468096|\n",
      "|    min|           75000.0|               290|\n",
      "|    max|         7700000.0|             13540|\n",
      "+-------+------------------+------------------+\n",
      "\n"
     ]
    }
   ],
   "source": [
    "housing_df.describe(\"price\", \"sqft_living\").show()"
   ]
  },
  {
   "cell_type": "markdown",
   "metadata": {
    "collapsed": true
   },
   "source": [
    "We can also explicitly ask for specific stats about columns by passing appropriate stats functions"
   ]
  },
  {
   "cell_type": "code",
   "execution_count": 12,
   "metadata": {
    "collapsed": true
   },
   "outputs": [],
   "source": [
    "from pyspark.sql.functions import mean, min, max"
   ]
  },
  {
   "cell_type": "code",
   "execution_count": 13,
   "metadata": {},
   "outputs": [
    {
     "name": "stdout",
     "output_type": "stream",
     "text": [
      "+----------+-----------------+----------+\n",
      "|max(price)|       avg(price)|min(price)|\n",
      "+----------+-----------------+----------+\n",
      "| 7700000.0|540182.1587933188|   75000.0|\n",
      "+----------+-----------------+----------+\n",
      "\n"
     ]
    }
   ],
   "source": [
    "housing_df.select([max('price'), mean('price'), min('price')] ).show()"
   ]
  },
  {
   "cell_type": "code",
   "execution_count": 14,
   "metadata": {},
   "outputs": [
    {
     "name": "stdout",
     "output_type": "stream",
     "text": [
      "+-----------------+------------------+\n",
      "|       avg(price)|  avg(sqft_living)|\n",
      "+-----------------+------------------+\n",
      "|540182.1587933188|2079.8997362698374|\n",
      "+-----------------+------------------+\n",
      "\n"
     ]
    }
   ],
   "source": [
    "housing_df.select([mean('price'), mean('sqft_living')] ).show()"
   ]
  },
  {
   "cell_type": "markdown",
   "metadata": {},
   "source": [
    "Is there any relationship between waterfront and view?"
   ]
  },
  {
   "cell_type": "code",
   "execution_count": 15,
   "metadata": {
    "collapsed": true
   },
   "outputs": [],
   "source": [
    "bed_bath_df = housing_df.select(['waterfront', 'view'] )"
   ]
  },
  {
   "cell_type": "markdown",
   "metadata": {},
   "source": [
    "Use crosstab function"
   ]
  },
  {
   "cell_type": "code",
   "execution_count": 16,
   "metadata": {},
   "outputs": [
    {
     "name": "stdout",
     "output_type": "stream",
     "text": [
      "+---------------+-----+---+\n",
      "|view_waterfront|    0|  1|\n",
      "+---------------+-----+---+\n",
      "|              0|19489|  0|\n",
      "|              1|  331|  1|\n",
      "|              2|  955|  8|\n",
      "|              3|  491| 19|\n",
      "|              4|  184|135|\n",
      "+---------------+-----+---+\n",
      "\n"
     ]
    }
   ],
   "source": [
    "bed_bath_df.stat.crosstab(\"view\", \"waterfront\").show()"
   ]
  },
  {
   "cell_type": "markdown",
   "metadata": {},
   "source": [
    "Mean and standard deviation of prices for houses by different conditions"
   ]
  },
  {
   "cell_type": "code",
   "execution_count": 17,
   "metadata": {
    "collapsed": true
   },
   "outputs": [],
   "source": [
    "from pyspark.sql.functions import avg, stddev"
   ]
  },
  {
   "cell_type": "code",
   "execution_count": 18,
   "metadata": {
    "collapsed": true
   },
   "outputs": [],
   "source": [
    "price_conditon_avg_df = housing_df.groupBy('condition').agg(avg('price'))"
   ]
  },
  {
   "cell_type": "code",
   "execution_count": 19,
   "metadata": {},
   "outputs": [
    {
     "name": "stdout",
     "output_type": "stream",
     "text": [
      "+---------+------------------+\n",
      "|condition|        avg(price)|\n",
      "+---------+------------------+\n",
      "|        1| 334431.6666666667|\n",
      "|        3| 542097.0860238044|\n",
      "|        5| 612577.7425044092|\n",
      "|        4|521300.70522979397|\n",
      "|        2| 327316.2151162791|\n",
      "+---------+------------------+\n",
      "\n"
     ]
    }
   ],
   "source": [
    "price_conditon_avg_df.show()"
   ]
  },
  {
   "cell_type": "code",
   "execution_count": 20,
   "metadata": {},
   "outputs": [
    {
     "name": "stdout",
     "output_type": "stream",
     "text": [
      "+---------+------------------+\n",
      "|condition|stddev_samp(price)|\n",
      "+---------+------------------+\n",
      "|        1|271172.80483730906|\n",
      "|        3|  364661.792840074|\n",
      "|        5| 411317.8598148183|\n",
      "|        4|358768.81104381685|\n",
      "|        2|245683.98096250606|\n",
      "+---------+------------------+\n",
      "\n"
     ]
    }
   ],
   "source": [
    "housing_df.groupBy('condition').agg(stddev('price')).show()"
   ]
  },
  {
   "cell_type": "markdown",
   "metadata": {},
   "source": [
    "# Plotting distribution of price"
   ]
  },
  {
   "cell_type": "code",
   "execution_count": 21,
   "metadata": {
    "collapsed": true
   },
   "outputs": [],
   "source": [
    "import matplotlib.pyplot as plt\n",
    "import seaborn as sn\n",
    "%matplotlib inline"
   ]
  },
  {
   "cell_type": "code",
   "execution_count": 22,
   "metadata": {
    "collapsed": true
   },
   "outputs": [],
   "source": [
    "housing_price_pd = housing_df.select('price').toPandas()"
   ]
  },
  {
   "cell_type": "markdown",
   "metadata": {},
   "source": [
    "Density Plot"
   ]
  },
  {
   "cell_type": "code",
   "execution_count": 23,
   "metadata": {},
   "outputs": [
    {
     "data": {
      "text/plain": [
       "<matplotlib.axes._subplots.AxesSubplot at 0x7f7775b4c850>"
      ]
     },
     "execution_count": 23,
     "metadata": {},
     "output_type": "execute_result"
    },
    {
     "data": {
      "image/png": "[encoded data removed]",
      "text/plain": [
       "<matplotlib.figure.Figure at 0x7f7775b4c350>"
      ]
     },
     "metadata": {},
     "output_type": "display_data"
    }
   ],
   "source": [
    "sn.set(rc={\"figure.figsize\": (10, 6)})\n",
    "sn.distplot(housing_price_pd['price'], norm_hist=True)"
   ]
  },
  {
   "cell_type": "markdown",
   "metadata": {},
   "source": [
    "Box plot"
   ]
  },
  {
   "cell_type": "code",
   "execution_count": 24,
   "metadata": {},
   "outputs": [
    {
     "name": "stderr",
     "output_type": "stream",
     "text": [
      "/usr/local/anaconda/python2/lib/python2.7/site-packages/seaborn/categorical.py:462: FutureWarning: remove_na is deprecated and is a private function. Do not use.\n",
      "  box_data = remove_na(group_data)\n"
     ]
    },
    {
     "data": {
      "text/plain": [
       "<matplotlib.axes._subplots.AxesSubplot at 0x7f7775a9b090>"
      ]
     },
     "execution_count": 24,
     "metadata": {},
     "output_type": "execute_result"
    },
    {
     "data": {
      "image/png": "[encoded data removed]",
      "text/plain": [
       "<matplotlib.figure.Figure at 0x7f7775b4c090>"
      ]
     },
     "metadata": {},
     "output_type": "display_data"
    }
   ],
   "source": [
    "sn.boxplot(x= housing_price_pd['price'])"
   ]
  },
  {
   "cell_type": "markdown",
   "metadata": {},
   "source": [
    "Observation: We can observe there are many outliers in the dataset as far as price is concerned"
   ]
  },
  {
   "cell_type": "markdown",
   "metadata": {},
   "source": [
    "Correlation between price and sqft_living"
   ]
  },
  {
   "cell_type": "code",
   "execution_count": 25,
   "metadata": {
    "collapsed": true
   },
   "outputs": [],
   "source": [
    "column_labels = ['price','sqft_living', 'sqft_lot', 'bedrooms','bathrooms', \\\n",
    "         'floors', 'sqft_above', 'sqft_basement','yr_built','yr_renovated', \\\n",
    "        'sqft_living15', 'sqft_lot15']"
   ]
  },
  {
   "cell_type": "code",
   "execution_count": 26,
   "metadata": {},
   "outputs": [
    {
     "data": {
      "text/plain": [
       "0.7020437212325301"
      ]
     },
     "execution_count": 26,
     "metadata": {},
     "output_type": "execute_result"
    }
   ],
   "source": [
    "housing_df.stat.corr( 'price', 'sqft_living' )"
   ]
  },
  {
   "cell_type": "markdown",
   "metadata": {},
   "source": [
    "Observation: sqft_living is highly correated with price"
   ]
  },
  {
   "cell_type": "markdown",
   "metadata": {},
   "source": [
    "# Which factors are hightly correlated with price"
   ]
  },
  {
   "cell_type": "code",
   "execution_count": 27,
   "metadata": {
    "collapsed": true
   },
   "outputs": [],
   "source": [
    "import numpy as np\n",
    "from pyspark.mllib.stat import Statistics"
   ]
  },
  {
   "cell_type": "code",
   "execution_count": 28,
   "metadata": {
    "collapsed": true
   },
   "outputs": [],
   "source": [
    "column_corr = Statistics.corr(housing_df.rdd.map(lambda x:\n",
    "                         np.array([x['price'],\n",
    "                                   x['sqft_living'],\n",
    "                                   x['sqft_lot'],\n",
    "                                   x['bedrooms'],\n",
    "                                   x['bathrooms'],\n",
    "                                   x['floors'],\n",
    "                                   x['sqft_above'],\n",
    "                                   x['sqft_basement'],\n",
    "                                   x['yr_built'],\n",
    "                                   x['yr_renovated'],\n",
    "                                   x['sqft_living15'],\n",
    "                                   x['sqft_lot15']\n",
    "                                  ])), method='pearson')"
   ]
  },
  {
   "cell_type": "code",
   "execution_count": 29,
   "metadata": {},
   "outputs": [
    {
     "data": {
      "text/plain": [
       "<matplotlib.axes._subplots.AxesSubplot at 0x7f7775442b90>"
      ]
     },
     "execution_count": 29,
     "metadata": {},
     "output_type": "execute_result"
    },
    {
     "data": {
      "image/png": "[encoded data removed]",
      "text/plain": [
       "<matplotlib.figure.Figure at 0x7f777541af90>"
      ]
     },
     "metadata": {},
     "output_type": "display_data"
    }
   ],
   "source": [
    "sn.heatmap( column_corr, vmin=0,\n",
    "          vmax=1,\n",
    "          annot= True,\n",
    "          xticklabels = column_labels,\n",
    "          yticklabels = column_labels )"
   ]
  },
  {
   "cell_type": "markdown",
   "metadata": {},
   "source": [
    "Observation: The factors sqft_living, number of bathrooms, sqft_living15 and sqft_above seem to be highly correlated with price and can be good predictors for price"
   ]
  },
  {
   "cell_type": "markdown",
   "metadata": {},
   "source": [
    "# Which zipcodes have high median prices"
   ]
  },
  {
   "cell_type": "code",
   "execution_count": 30,
   "metadata": {
    "collapsed": true
   },
   "outputs": [],
   "source": [
    "from pyspark.sql.functions import desc\n",
    "\n",
    "price_by_zipcodes_df = housing_df.groupBy('zipcode').agg(avg('price')).sort( desc( 'avg(price)') )"
   ]
  },
  {
   "cell_type": "code",
   "execution_count": 31,
   "metadata": {},
   "outputs": [
    {
     "data": {
      "text/html": [
       "<div>\n",
       "<style scoped>\n",
       "    .dataframe tbody tr th:only-of-type {\n",
       "        vertical-align: middle;\n",
       "    }\n",
       "\n",
       "    .dataframe tbody tr th {\n",
       "        vertical-align: top;\n",
       "    }\n",
       "\n",
       "    .dataframe thead th {\n",
       "        text-align: right;\n",
       "    }\n",
       "</style>\n",
       "<table border=\"1\" class=\"dataframe\">\n",
       "  <thead>\n",
       "    <tr style=\"text-align: right;\">\n",
       "      <th></th>\n",
       "      <th>zipcode</th>\n",
       "      <th>avg(price)</th>\n",
       "    </tr>\n",
       "  </thead>\n",
       "  <tbody>\n",
       "    <tr>\n",
       "      <th>0</th>\n",
       "      <td>98039</td>\n",
       "      <td>2.161300e+06</td>\n",
       "    </tr>\n",
       "    <tr>\n",
       "      <th>1</th>\n",
       "      <td>98004</td>\n",
       "      <td>1.356524e+06</td>\n",
       "    </tr>\n",
       "    <tr>\n",
       "      <th>2</th>\n",
       "      <td>98040</td>\n",
       "      <td>1.194874e+06</td>\n",
       "    </tr>\n",
       "    <tr>\n",
       "      <th>3</th>\n",
       "      <td>98112</td>\n",
       "      <td>1.096239e+06</td>\n",
       "    </tr>\n",
       "    <tr>\n",
       "      <th>4</th>\n",
       "      <td>98102</td>\n",
       "      <td>9.015162e+05</td>\n",
       "    </tr>\n",
       "    <tr>\n",
       "      <th>5</th>\n",
       "      <td>98109</td>\n",
       "      <td>8.800778e+05</td>\n",
       "    </tr>\n",
       "    <tr>\n",
       "      <th>6</th>\n",
       "      <td>98105</td>\n",
       "      <td>8.632289e+05</td>\n",
       "    </tr>\n",
       "    <tr>\n",
       "      <th>7</th>\n",
       "      <td>98006</td>\n",
       "      <td>8.599386e+05</td>\n",
       "    </tr>\n",
       "    <tr>\n",
       "      <th>8</th>\n",
       "      <td>98119</td>\n",
       "      <td>8.497148e+05</td>\n",
       "    </tr>\n",
       "    <tr>\n",
       "      <th>9</th>\n",
       "      <td>98005</td>\n",
       "      <td>8.102897e+05</td>\n",
       "    </tr>\n",
       "  </tbody>\n",
       "</table>\n",
       "</div>"
      ],
      "text/plain": [
       "   zipcode    avg(price)\n",
       "0    98039  2.161300e+06\n",
       "1    98004  1.356524e+06\n",
       "2    98040  1.194874e+06\n",
       "3    98112  1.096239e+06\n",
       "4    98102  9.015162e+05\n",
       "5    98109  8.800778e+05\n",
       "6    98105  8.632289e+05\n",
       "7    98006  8.599386e+05\n",
       "8    98119  8.497148e+05\n",
       "9    98005  8.102897e+05"
      ]
     },
     "execution_count": 31,
     "metadata": {},
     "output_type": "execute_result"
    }
   ],
   "source": [
    "price_by_zipcodes_df.toPandas()[0:10]"
   ]
  },
  {
   "cell_type": "markdown",
   "metadata": {},
   "source": [
    "Plot top10 zipcodes by price"
   ]
  },
  {
   "cell_type": "code",
   "execution_count": 32,
   "metadata": {
    "collapsed": true
   },
   "outputs": [],
   "source": [
    "top_10_zipcodes = price_by_zipcodes_df.toPandas()[0:10]"
   ]
  },
  {
   "cell_type": "code",
   "execution_count": 33,
   "metadata": {},
   "outputs": [
    {
     "name": "stderr",
     "output_type": "stream",
     "text": [
      "/usr/local/anaconda/python2/lib/python2.7/site-packages/seaborn/categorical.py:1460: FutureWarning: remove_na is deprecated and is a private function. Do not use.\n",
      "  stat_data = remove_na(group_data)\n"
     ]
    },
    {
     "data": {
      "text/plain": [
       "<matplotlib.axes._subplots.AxesSubplot at 0x7f779b8b9c10>"
      ]
     },
     "execution_count": 33,
     "metadata": {},
     "output_type": "execute_result"
    },
    {
     "data": {
      "image/png": "[encoded data removed]",
      "text/plain": [
       "<matplotlib.figure.Figure at 0x7f779b8b9490>"
      ]
     },
     "metadata": {},
     "output_type": "display_data"
    }
   ],
   "source": [
    "sn.barplot( data = top_10_zipcodes,\n",
    "          x='zipcode',\n",
    "          y='avg(price)',\n",
    "          order = top_10_zipcodes.zipcode)"
   ]
  },
  {
   "cell_type": "code",
   "execution_count": null,
   "metadata": {},
   "outputs": [],
   "source": [
    "Any null values are there"
   ]
  },
  {
   "cell_type": "markdown",
   "metadata": {},
   "source": [
    "Any null values are there"
   ]
  },
  {
   "cell_type": "code",
   "execution_count": 34,
   "metadata": {
    "collapsed": true
   },
   "outputs": [],
   "source": [
    "from pyspark.sql.functions import isnull\n",
    "\n",
    "house_df_clean = housing_df.na.drop( how = 'any' )"
   ]
  },
  {
   "cell_type": "code",
   "execution_count": 35,
   "metadata": {},
   "outputs": [
    {
     "data": {
      "text/plain": [
       "True"
      ]
     },
     "execution_count": 35,
     "metadata": {},
     "output_type": "execute_result"
    }
   ],
   "source": [
    "house_df_clean.count() == housing_df.count()"
   ]
  },
  {
   "cell_type": "markdown",
   "metadata": {},
   "source": [
    "# Feature Engineering"
   ]
  },
  {
   "cell_type": "markdown",
   "metadata": {},
   "source": [
    "Log transformation for price variable"
   ]
  },
  {
   "cell_type": "markdown",
   "metadata": {},
   "source": [
    "price variable is right skewed. We can apply log transformation to make it normally distributed"
   ]
  },
  {
   "cell_type": "code",
   "execution_count": 36,
   "metadata": {},
   "outputs": [
    {
     "data": {
      "text/plain": [
       "<matplotlib.axes._subplots.AxesSubplot at 0x7f779b8e4d10>"
      ]
     },
     "execution_count": 36,
     "metadata": {},
     "output_type": "execute_result"
    },
    {
     "data": {
      "image/png": "[encoded data removed]",
      "text/plain": [
       "<matplotlib.figure.Figure at 0x7f779b88a190>"
      ]
     },
     "metadata": {},
     "output_type": "display_data"
    }
   ],
   "source": [
    "#sn.set(rc={\"figure.figsize\": (10, 6)})\n",
    "sn.distplot(housing_price_pd['price'], norm_hist=True)"
   ]
  },
  {
   "cell_type": "code",
   "execution_count": 37,
   "metadata": {
    "collapsed": true
   },
   "outputs": [],
   "source": [
    "from pyspark.sql.functions import col, log\n",
    "import seaborn as sn\n",
    "housing_df = housing_df.withColumn( 'log_price', log('price') )"
   ]
  },
  {
   "cell_type": "code",
   "execution_count": 38,
   "metadata": {},
   "outputs": [
    {
     "data": {
      "text/plain": [
       "<matplotlib.axes._subplots.AxesSubplot at 0x7f77753f6990>"
      ]
     },
     "execution_count": 38,
     "metadata": {},
     "output_type": "execute_result"
    },
    {
     "data": {
      "image/png": "[encoded data removed]",
      "text/plain": [
       "<matplotlib.figure.Figure at 0x7f779b79a890>"
      ]
     },
     "metadata": {},
     "output_type": "display_data"
    }
   ],
   "source": [
    "sn.set(rc={\"figure.figsize\": (10, 6)})\n",
    "sn.distplot(housing_df.select('log_price').toPandas(), norm_hist=True)"
   ]
  },
  {
   "cell_type": "code",
   "execution_count": 39,
   "metadata": {},
   "outputs": [
    {
     "data": {
      "text/plain": [
       "<matplotlib.axes._subplots.AxesSubplot at 0x7f779b8c5090>"
      ]
     },
     "execution_count": 39,
     "metadata": {},
     "output_type": "execute_result"
    },
    {
     "data": {
      "image/png": "[encoded data removed]",
      "text/plain": [
       "<matplotlib.figure.Figure at 0x7f779b88a550>"
      ]
     },
     "metadata": {},
     "output_type": "display_data"
    }
   ],
   "source": [
    "sn.set(rc={\"figure.figsize\": (8, 4)})\n",
    "sn.distplot(housing_df.select('sqft_lot').toPandas(), norm_hist=True)"
   ]
  },
  {
   "cell_type": "code",
   "execution_count": 40,
   "metadata": {},
   "outputs": [
    {
     "data": {
      "text/plain": [
       "<matplotlib.axes._subplots.AxesSubplot at 0x7f77759c8510>"
      ]
     },
     "execution_count": 40,
     "metadata": {},
     "output_type": "execute_result"
    },
    {
     "data": {
      "image/png": "[encoded data removed]",
      "text/plain": [
       "<matplotlib.figure.Figure at 0x7f77759e45d0>"
      ]
     },
     "metadata": {},
     "output_type": "display_data"
    }
   ],
   "source": [
    "housing_df = housing_df.withColumn( 'log_sqft_lot', log('sqft_lot') )\n",
    "sn.distplot(housing_df.select('log_sqft_lot').toPandas(), norm_hist=True)"
   ]
  },
  {
   "cell_type": "markdown",
   "metadata": {},
   "source": [
    "Log transformation for sqft_living variable"
   ]
  },
  {
   "cell_type": "code",
   "execution_count": 41,
   "metadata": {},
   "outputs": [
    {
     "data": {
      "text/plain": [
       "<matplotlib.axes._subplots.AxesSubplot at 0x7f779b67f490>"
      ]
     },
     "execution_count": 41,
     "metadata": {},
     "output_type": "execute_result"
    },
    {
     "data": {
      "image/png": "[encoded data removed]",
      "text/plain": [
       "<matplotlib.figure.Figure at 0x7f779b664c50>"
      ]
     },
     "metadata": {},
     "output_type": "display_data"
    }
   ],
   "source": [
    "sn.set(rc={\"figure.figsize\": (8, 4)})\n",
    "sn.distplot(housing_df.select('sqft_lot').toPandas(), norm_hist=True)"
   ]
  },
  {
   "cell_type": "code",
   "execution_count": 42,
   "metadata": {},
   "outputs": [
    {
     "data": {
      "text/plain": [
       "<matplotlib.axes._subplots.AxesSubplot at 0x7f7775368c90>"
      ]
     },
     "execution_count": 42,
     "metadata": {},
     "output_type": "execute_result"
    },
    {
     "data": {
      "image/png": "[encoded data removed]",
      "text/plain": [
       "<matplotlib.figure.Figure at 0x7f779b724f50>"
      ]
     },
     "metadata": {},
     "output_type": "display_data"
    }
   ],
   "source": [
    "housing_df = housing_df.withColumn( 'log_sqft_lot', log('sqft_lot') )\n",
    "sn.distplot(housing_df.select('log_sqft_lot').toPandas(), norm_hist=True)"
   ]
  },
  {
   "cell_type": "markdown",
   "metadata": {},
   "source": [
    "Correlating log transformed of price and sqft_living"
   ]
  },
  {
   "cell_type": "code",
   "execution_count": 43,
   "metadata": {},
   "outputs": [
    {
     "data": {
      "text/plain": [
       "0.08965520771082404"
      ]
     },
     "execution_count": 43,
     "metadata": {},
     "output_type": "execute_result"
    }
   ],
   "source": [
    "housing_df.stat.corr( 'price', 'sqft_lot' )"
   ]
  },
  {
   "cell_type": "code",
   "execution_count": 44,
   "metadata": {},
   "outputs": [
    {
     "data": {
      "text/plain": [
       "0.13774619420244752"
      ]
     },
     "execution_count": 44,
     "metadata": {},
     "output_type": "execute_result"
    }
   ],
   "source": [
    "housing_df.stat.corr( 'log_price', 'log_sqft_lot' )"
   ]
  },
  {
   "cell_type": "markdown",
   "metadata": {},
   "source": [
    "# Calculating age of the house"
   ]
  },
  {
   "cell_type": "code",
   "execution_count": 45,
   "metadata": {
    "collapsed": true
   },
   "outputs": [],
   "source": [
    "from pyspark.sql.functions import lit\n",
    "\n",
    "housing_df = housing_df.withColumn(\"age\", lit(2018) - col('yr_built'))"
   ]
  },
  {
   "cell_type": "code",
   "execution_count": 46,
   "metadata": {},
   "outputs": [
    {
     "name": "stdout",
     "output_type": "stream",
     "text": [
      "+---+----------+-------------------+--------+--------+---------+-----------+--------+------+----------+----+---------+-----+----------+-------------+--------+------------+-------+------------------+--------+-------------+----------+------------------+-----------------+---+\n",
      "|_c0|        id|               date|   price|bedrooms|bathrooms|sqft_living|sqft_lot|floors|waterfront|view|condition|grade|sqft_above|sqft_basement|yr_built|yr_renovated|zipcode|               lat|    long|sqft_living15|sqft_lot15|         log_price|     log_sqft_lot|age|\n",
      "+---+----------+-------------------+--------+--------+---------+-----------+--------+------+----------+----+---------+-----+----------+-------------+--------+------------+-------+------------------+--------+-------------+----------+------------------+-----------------+---+\n",
      "|  0|7129300520|2014-10-13 00:00:00|221900.0|       3|      1.0|       1180|    5650|   1.0|         0|   0|        3|    7|      1180|            0|    1955|           0|  98178|           47.5112|-122.257|         1340|      5650|12.309982108920686|8.639410824140487| 63|\n",
      "|  1|6414100192|2014-12-09 00:00:00|538000.0|       3|     2.25|       2570|    7242|   2.0|         0|   0|        3|    7|      2170|          400|    1951|        1991|  98125|47.721000000000004|-122.319|         1690|      7639|13.195613839143922|8.887652690325586| 67|\n",
      "+---+----------+-------------------+--------+--------+---------+-----------+--------+------+----------+----+---------+-----+----------+-------------+--------+------------+-------+------------------+--------+-------------+----------+------------------+-----------------+---+\n",
      "only showing top 2 rows\n",
      "\n"
     ]
    }
   ],
   "source": [
    "housing_df.show( 2 )"
   ]
  },
  {
   "cell_type": "code",
   "execution_count": 47,
   "metadata": {},
   "outputs": [
    {
     "data": {
      "text/plain": [
       "['_c0',\n",
       " 'id',\n",
       " 'date',\n",
       " 'price',\n",
       " 'bedrooms',\n",
       " 'bathrooms',\n",
       " 'sqft_living',\n",
       " 'sqft_lot',\n",
       " 'floors',\n",
       " 'waterfront',\n",
       " 'view',\n",
       " 'condition',\n",
       " 'grade',\n",
       " 'sqft_above',\n",
       " 'sqft_basement',\n",
       " 'yr_built',\n",
       " 'yr_renovated',\n",
       " 'zipcode',\n",
       " 'lat',\n",
       " 'long',\n",
       " 'sqft_living15',\n",
       " 'sqft_lot15',\n",
       " 'log_price',\n",
       " 'log_sqft_lot',\n",
       " 'age']"
      ]
     },
     "execution_count": 47,
     "metadata": {},
     "output_type": "execute_result"
    }
   ],
   "source": [
    "housing_df.columns"
   ]
  },
  {
   "cell_type": "markdown",
   "metadata": {},
   "source": [
    "When was the house last rennovated?"
   ]
  },
  {
   "cell_type": "code",
   "execution_count": 48,
   "metadata": {
    "collapsed": true
   },
   "outputs": [],
   "source": [
    "housing_df = housing_df.withColumn(\"rennovate_age\", lit(2018) - col('yr_renovated'))"
   ]
  },
  {
   "cell_type": "code",
   "execution_count": 49,
   "metadata": {},
   "outputs": [
    {
     "name": "stdout",
     "output_type": "stream",
     "text": [
      "+---+----------+-------------------+--------+--------+---------+-----------+--------+------+----------+----+---------+-----+----------+-------------+--------+------------+-------+------------------+--------+-------------+----------+------------------+-----------------+---+-------------+\n",
      "|_c0|        id|               date|   price|bedrooms|bathrooms|sqft_living|sqft_lot|floors|waterfront|view|condition|grade|sqft_above|sqft_basement|yr_built|yr_renovated|zipcode|               lat|    long|sqft_living15|sqft_lot15|         log_price|     log_sqft_lot|age|rennovate_age|\n",
      "+---+----------+-------------------+--------+--------+---------+-----------+--------+------+----------+----+---------+-----+----------+-------------+--------+------------+-------+------------------+--------+-------------+----------+------------------+-----------------+---+-------------+\n",
      "|  0|7129300520|2014-10-13 00:00:00|221900.0|       3|      1.0|       1180|    5650|   1.0|         0|   0|        3|    7|      1180|            0|    1955|           0|  98178|           47.5112|-122.257|         1340|      5650|12.309982108920686|8.639410824140487| 63|         2018|\n",
      "|  1|6414100192|2014-12-09 00:00:00|538000.0|       3|     2.25|       2570|    7242|   2.0|         0|   0|        3|    7|      2170|          400|    1951|        1991|  98125|47.721000000000004|-122.319|         1690|      7639|13.195613839143922|8.887652690325586| 67|           27|\n",
      "+---+----------+-------------------+--------+--------+---------+-----------+--------+------+----------+----+---------+-----+----------+-------------+--------+------------+-------+------------------+--------+-------------+----------+------------------+-----------------+---+-------------+\n",
      "only showing top 2 rows\n",
      "\n"
     ]
    }
   ],
   "source": [
    "housing_df.show(2)"
   ]
  },
  {
   "cell_type": "markdown",
   "metadata": {},
   "source": [
    "Keep a copy of the original dataframe for later use"
   ]
  },
  {
   "cell_type": "code",
   "execution_count": 50,
   "metadata": {
    "collapsed": true
   },
   "outputs": [],
   "source": [
    "housing_original_df = housing_df"
   ]
  },
  {
   "cell_type": "code",
   "execution_count": 51,
   "metadata": {
    "collapsed": true
   },
   "outputs": [],
   "source": [
    "from pyspark.sql.functions import round\n",
    "\n",
    "housing_df = housing_df.withColumn( \"label\", round('log_price', 4) )"
   ]
  },
  {
   "cell_type": "markdown",
   "metadata": {},
   "source": [
    "Columns that will be used as features and their types"
   ]
  },
  {
   "cell_type": "code",
   "execution_count": 52,
   "metadata": {
    "collapsed": true
   },
   "outputs": [],
   "source": [
    "continuous_features = ['sqft_living', 'bedrooms', 'bathrooms', 'floors',\n",
    "                    'log_sqft_lot', 'age', 'sqft_above',\n",
    "                    'sqft_living15', 'sqft_lot15', 'rennovate_age']\n",
    "\n",
    "categorical_features = ['zipcode', 'waterfront',\n",
    "                      'grade', 'condition',\n",
    "                      'view']"
   ]
  },
  {
   "cell_type": "markdown",
   "metadata": {},
   "source": [
    "Define a function to create categorical features"
   ]
  },
  {
   "cell_type": "code",
   "execution_count": 53,
   "metadata": {
    "collapsed": true
   },
   "outputs": [],
   "source": [
    "#def create_category_vars( dataset, field_name ):\n",
    " #   idx_col = field_name + \"Index\"\n",
    "  #  col_vec = field_name + \"Vec\"\n",
    "   # month_stringIndexer = StringIndexer( inputCol=field_name, outputCol=idx_col )\n",
    "    #month_model = month_stringIndexer.fit( dataset )\n",
    "    #month_indexed = month_model.transform( dataset )\n",
    "    #month_encoder = OneHotEncoder( dropLast=True, inputCol=idx_col, outputCol= col_vec )\n",
    "    \n",
    "    #return month_encoder.transform( month_indexed )"
   ]
  },
  {
   "cell_type": "markdown",
   "metadata": {},
   "source": [
    "Encoding all categorical features"
   ]
  },
  {
   "cell_type": "code",
   "execution_count": 54,
   "metadata": {},
   "outputs": [],
   "source": [
    "from pyspark.ml.feature import OneHotEncoder, StringIndexer, VectorAssembler, PolynomialExpansion, VectorIndexer\n",
    "stages = []\n",
    "#for col in categorical_features:\n",
    " #   housing_df = create_category_vars( housing_df, col )\n",
    "    \n",
    "for col in categorical_features:\n",
    "    stringIndexer = StringIndexer(inputCol = col, outputCol = col + 'Index')\n",
    "    encoder = OneHotEncoder(inputCol=col + 'Index', outputCol=col + \"Vec\")\n",
    "    stages += [stringIndexer, encoder]\n",
    "\n",
    "#housing_df.cache()"
   ]
  },
  {
   "cell_type": "code",
   "execution_count": 55,
   "metadata": {},
   "outputs": [
    {
     "data": {
      "text/plain": [
       "[StringIndexer_4dc98eecc24dbd8c80ff,\n",
       " OneHotEncoder_4f3bb66b1ae3fa066fe4,\n",
       " StringIndexer_428ebd0c99fdab51437b,\n",
       " OneHotEncoder_49308f3cf5496ad9dbd7,\n",
       " StringIndexer_4cb69235cd630103142c,\n",
       " OneHotEncoder_41f6bbfa0b7334224fa8,\n",
       " StringIndexer_499789d2c8333d1e91ca,\n",
       " OneHotEncoder_442b9502d13ccce9f15e,\n",
       " StringIndexer_4c0180f662171f0d28ca,\n",
       " OneHotEncoder_4e7e974bb8ef2dfa8f8b]"
      ]
     },
     "execution_count": 55,
     "metadata": {},
     "output_type": "execute_result"
    }
   ],
   "source": [
    "stages"
   ]
  },
  {
   "cell_type": "markdown",
   "metadata": {},
   "source": [
    "Create vectors from all features column"
   ]
  },
  {
   "cell_type": "code",
   "execution_count": 56,
   "metadata": {
    "collapsed": true
   },
   "outputs": [],
   "source": [
    "featureCols = continuous_features + ['zipcodeVec',\n",
    "                                   'waterfrontVec',\n",
    "                                   'gradeVec',\n",
    "                                   'conditionVec',\n",
    "                                   'viewVec']"
   ]
  },
  {
   "cell_type": "code",
   "execution_count": 57,
   "metadata": {},
   "outputs": [
    {
     "data": {
      "text/plain": [
       "['sqft_living',\n",
       " 'bedrooms',\n",
       " 'bathrooms',\n",
       " 'floors',\n",
       " 'log_sqft_lot',\n",
       " 'age',\n",
       " 'sqft_above',\n",
       " 'sqft_living15',\n",
       " 'sqft_lot15',\n",
       " 'rennovate_age',\n",
       " 'zipcodeVec',\n",
       " 'waterfrontVec',\n",
       " 'gradeVec',\n",
       " 'conditionVec',\n",
       " 'viewVec']"
      ]
     },
     "execution_count": 57,
     "metadata": {},
     "output_type": "execute_result"
    }
   ],
   "source": [
    "featureCols"
   ]
  },
  {
   "cell_type": "markdown",
   "metadata": {},
   "source": [
    "# Getting prepared for model building"
   ]
  },
  {
   "cell_type": "markdown",
   "metadata": {},
   "source": [
    "The dataframe need to have two columns: features and label\n",
    "    \n",
    "The vector columns need to named as features\n",
    "\n",
    "The target variable need to be named as label\n",
    "\n",
    "Then the dataframe can be directly fed to a model to learn"
   ]
  },
  {
   "cell_type": "code",
   "execution_count": 58,
   "metadata": {
    "collapsed": true
   },
   "outputs": [],
   "source": [
    "assembler = VectorAssembler( inputCols = featureCols, outputCol = \"features\")"
   ]
  },
  {
   "cell_type": "code",
   "execution_count": 59,
   "metadata": {},
   "outputs": [
    {
     "data": {
      "text/plain": [
       "Param(parent=u'VectorAssembler_4415a760fabaf5def31d', name='outputCol', doc='output column name.')"
      ]
     },
     "execution_count": 59,
     "metadata": {},
     "output_type": "execute_result"
    }
   ],
   "source": [
    "assembler.outputCol"
   ]
  },
  {
   "cell_type": "code",
   "execution_count": 60,
   "metadata": {},
   "outputs": [
    {
     "data": {
      "text/plain": [
       "[StringIndexer_4dc98eecc24dbd8c80ff,\n",
       " OneHotEncoder_4f3bb66b1ae3fa066fe4,\n",
       " StringIndexer_428ebd0c99fdab51437b,\n",
       " OneHotEncoder_49308f3cf5496ad9dbd7,\n",
       " StringIndexer_4cb69235cd630103142c,\n",
       " OneHotEncoder_41f6bbfa0b7334224fa8,\n",
       " StringIndexer_499789d2c8333d1e91ca,\n",
       " OneHotEncoder_442b9502d13ccce9f15e,\n",
       " StringIndexer_4c0180f662171f0d28ca,\n",
       " OneHotEncoder_4e7e974bb8ef2dfa8f8b,\n",
       " VectorAssembler_4415a760fabaf5def31d]"
      ]
     },
     "execution_count": 60,
     "metadata": {},
     "output_type": "execute_result"
    }
   ],
   "source": [
    "#housing_train_df = assembler.transform( housing_df )\n",
    "stages += [assembler]\n",
    "\n",
    "stages"
   ]
  },
  {
   "cell_type": "markdown",
   "metadata": {},
   "source": [
    "# Build the Linear Regression Model"
   ]
  },
  {
   "cell_type": "code",
   "execution_count": 61,
   "metadata": {
    "collapsed": true
   },
   "outputs": [],
   "source": [
    "#from pyspark.ml.regression import LinearRegression\n",
    "import pyspark.ml.regression as reg\n"
   ]
  },
  {
   "cell_type": "code",
   "execution_count": 62,
   "metadata": {
    "collapsed": true
   },
   "outputs": [],
   "source": [
    "linreg = reg.LinearRegression(maxIter=500, regParam=0.0)\n",
    "#linreg = LinearRegression(maxIter=500, regParam=0.0)"
   ]
  },
  {
   "cell_type": "code",
   "execution_count": 63,
   "metadata": {},
   "outputs": [
    {
     "data": {
      "text/plain": [
       "[StringIndexer_4dc98eecc24dbd8c80ff,\n",
       " OneHotEncoder_4f3bb66b1ae3fa066fe4,\n",
       " StringIndexer_428ebd0c99fdab51437b,\n",
       " OneHotEncoder_49308f3cf5496ad9dbd7,\n",
       " StringIndexer_4cb69235cd630103142c,\n",
       " OneHotEncoder_41f6bbfa0b7334224fa8,\n",
       " StringIndexer_499789d2c8333d1e91ca,\n",
       " OneHotEncoder_442b9502d13ccce9f15e,\n",
       " StringIndexer_4c0180f662171f0d28ca,\n",
       " OneHotEncoder_4e7e974bb8ef2dfa8f8b,\n",
       " VectorAssembler_4415a760fabaf5def31d,\n",
       " LinearRegression_41cc91096e5cc4a22dff]"
      ]
     },
     "execution_count": 63,
     "metadata": {},
     "output_type": "execute_result"
    }
   ],
   "source": [
    "stages += [linreg]\n",
    "stages"
   ]
  },
  {
   "cell_type": "code",
   "execution_count": 64,
   "metadata": {},
   "outputs": [],
   "source": [
    "from pyspark.ml import Pipeline"
   ]
  },
  {
   "cell_type": "code",
   "execution_count": 65,
   "metadata": {
    "collapsed": true
   },
   "outputs": [],
   "source": [
    "pipeline = Pipeline(stages = stages)"
   ]
  },
  {
   "cell_type": "code",
   "execution_count": 66,
   "metadata": {},
   "outputs": [
    {
     "data": {
      "text/plain": [
       "Pipeline_4f4bbb7174e5f7278e83"
      ]
     },
     "execution_count": 66,
     "metadata": {},
     "output_type": "execute_result"
    }
   ],
   "source": [
    "pipeline"
   ]
  },
  {
   "cell_type": "code",
   "execution_count": 67,
   "metadata": {
    "collapsed": true
   },
   "outputs": [],
   "source": [
    "seed = 42\n",
    "train_df, test_df = housing_df.randomSplit( [0.7, 0.3], seed = seed )"
   ]
  },
  {
   "cell_type": "code",
   "execution_count": 68,
   "metadata": {},
   "outputs": [],
   "source": [
    "model = pipeline.fit(train_df)\n"
   ]
  },
  {
   "cell_type": "code",
   "execution_count": 69,
   "metadata": {
    "collapsed": true
   },
   "outputs": [],
   "source": [
    "test_model = model.transform(test_df)"
   ]
  },
  {
   "cell_type": "code",
   "execution_count": 70,
   "metadata": {},
   "outputs": [
    {
     "name": "stdout",
     "output_type": "stream",
     "text": [
      "+---+----------+-------------------+--------+--------+---------+-----------+--------+------+----------+----+---------+-----+----------+-------------+--------+------------+-------+------------------+-------------------+-------------+----------+------------------+-----------------+---+-------------+-------+------------+---------------+---------------+-------------+----------+--------------+--------------+-------------+---------+-------------+--------------------+------------------+\n",
      "|_c0|        id|               date|   price|bedrooms|bathrooms|sqft_living|sqft_lot|floors|waterfront|view|condition|grade|sqft_above|sqft_basement|yr_built|yr_renovated|zipcode|               lat|               long|sqft_living15|sqft_lot15|         log_price|     log_sqft_lot|age|rennovate_age|  label|zipcodeIndex|     zipcodeVec|waterfrontIndex|waterfrontVec|gradeIndex|      gradeVec|conditionIndex| conditionVec|viewIndex|      viewVec|            features|        prediction|\n",
      "+---+----------+-------------------+--------+--------+---------+-----------+--------+------+----------+----+---------+-----+----------+-------------+--------+------------+-------+------------------+-------------------+-------------+----------+------------------+-----------------+---+-------------+-------+------------+---------------+---------------+-------------+----------+--------------+--------------+-------------+---------+-------------+--------------------+------------------+\n",
      "|  1|6414100192|2014-12-09 00:00:00|538000.0|       3|     2.25|       2570|    7242|   2.0|         0|   0|        3|    7|      2170|          400|    1951|        1991|  98125|47.721000000000004|           -122.319|         1690|      7639|13.195613839143922|8.887652690325586| 67|           27|13.1956|        16.0|(69,[16],[1.0])|            0.0|(1,[0],[1.0])|       0.0|(11,[0],[1.0])|           0.0|(4,[0],[1.0])|      0.0|(4,[0],[1.0])|(99,[0,1,2,3,4,5,...|13.181938301506854|\n",
      "|  2|5631500400|2015-02-25 00:00:00|180000.0|       2|      1.0|        770|   10000|   1.0|         0|   0|        3|    6|       770|            0|    1933|           0|  98028|           47.7379|-122.23299999999999|         2720|      8062|12.100712129872347|9.210340371976184| 85|         2018|12.1007|        41.0|(69,[41],[1.0])|            0.0|(1,[0],[1.0])|       3.0|(11,[3],[1.0])|           0.0|(4,[0],[1.0])|      0.0|(4,[0],[1.0])|(99,[0,1,2,3,4,5,...| 12.57924121365834|\n",
      "|  3|2487200875|2014-12-09 00:00:00|604000.0|       4|      3.0|       1960|    5000|   1.0|         0|   0|        5|    7|      1050|          910|    1965|           0|  98136|           47.5208|-122.39299999999999|         1360|      5000|13.311329476916953|8.517193191416238| 53|         2018|13.3113|        46.0|(69,[46],[1.0])|            0.0|(1,[0],[1.0])|       0.0|(11,[0],[1.0])|           2.0|(4,[2],[1.0])|      0.0|(4,[0],[1.0])|(99,[0,1,2,3,4,5,...|13.181639092911304|\n",
      "| 13|6054650070|2014-10-07 00:00:00|400000.0|       3|     1.75|       1370|    9680|   1.0|         0|   0|        4|    7|      1370|            0|    1977|           0|  98074|           47.6127|           -122.045|         1370|     10208| 12.89921982609012|9.177817180270623| 41|         2018|12.8992|        13.0|(69,[13],[1.0])|            0.0|(1,[0],[1.0])|       0.0|(11,[0],[1.0])|           1.0|(4,[1],[1.0])|      0.0|(4,[0],[1.0])|(99,[0,1,2,3,4,5,...|12.899832588036503|\n",
      "| 16|1875500060|2014-07-31 00:00:00|395000.0|       3|      2.0|       1890|   14040|   2.0|         0|   0|        3|    7|      1890|            0|    1994|           0|  98019|           47.7277|           -121.962|         1890|     14018|12.886641043883259|9.549665677579801| 24|         2018|12.8866|        54.0|(69,[54],[1.0])|            0.0|(1,[0],[1.0])|       0.0|(11,[0],[1.0])|           0.0|(4,[0],[1.0])|      0.0|(4,[0],[1.0])|(99,[0,1,2,3,4,5,...|12.783060974735694|\n",
      "+---+----------+-------------------+--------+--------+---------+-----------+--------+------+----------+----+---------+-----+----------+-------------+--------+------------+-------+------------------+-------------------+-------------+----------+------------------+-----------------+---+-------------+-------+------------+---------------+---------------+-------------+----------+--------------+--------------+-------------+---------+-------------+--------------------+------------------+\n",
      "only showing top 5 rows\n",
      "\n"
     ]
    }
   ],
   "source": [
    "test_model.show(5)"
   ]
  },
  {
   "cell_type": "code",
   "execution_count": 75,
   "metadata": {
    "collapsed": true
   },
   "outputs": [],
   "source": [
    "#lm = linreg.fit( train_df )"
   ]
  },
  {
   "cell_type": "code",
   "execution_count": 76,
   "metadata": {},
   "outputs": [
    {
     "data": {
      "text/plain": [
       "12.66312958458747"
      ]
     },
     "execution_count": 76,
     "metadata": {},
     "output_type": "execute_result"
    }
   ],
   "source": [
    "#lm.intercept"
   ]
  },
  {
   "cell_type": "code",
   "execution_count": 77,
   "metadata": {},
   "outputs": [
    {
     "data": {
      "text/plain": [
       "DenseVector([0.0001, -0.0032, 0.0452, -0.0126, 0.0632, 0.0003, 0.0001, 0.0001, -0.0, -0.0, -0.3671, -1.0495, -0.3662, -0.5869, -0.3755, -1.1627, -0.6853, -0.743, -1.2461, -0.5937, -0.75, -0.8895, -1.0629, -0.7928, -0.6744, -0.4314, -0.7051, -0.6442, -0.8913, -0.6449, -1.2223, -0.6866, -0.6513, -1.2038, -0.5099, -0.8399, -0.4381, -0.6, -0.3287, -0.1304, -0.8164, -0.389, -0.9275, -0.5645, -0.8071, -0.3599, -1.207, -1.17, -1.1463, -0.7535, -0.1472, -1.1279, -1.0726, -0.3432, -0.5252, -1.0442, -1.1639, -0.622, -0.8968, -1.1814, -0.2477, -0.9099, -1.2308, -0.8244, -0.7745, -0.9063, -0.8486, -0.2181, -0.507, -0.5644, -1.1094, -1.2477, -0.9115, -0.9262, -0.1729, -0.2425, -0.9997, -0.844, -1.034, -0.4293, 0.3701, 0.47, 0.5688, 0.2502, 0.6104, 0.6462, 0.104, 0.6769, 0.1656, 0.6611, 0.5743, 0.2464, 0.2892, 0.3596, 0.1302, -0.2655, -0.1598, -0.1055, -0.1609])"
      ]
     },
     "execution_count": 77,
     "metadata": {},
     "output_type": "execute_result"
    }
   ],
   "source": [
    "#lm.coefficients"
   ]
  },
  {
   "cell_type": "markdown",
   "metadata": {},
   "source": [
    "# Make predictions on test data and evaluate"
   ]
  },
  {
   "cell_type": "code",
   "execution_count": 71,
   "metadata": {},
   "outputs": [
    {
     "name": "stdout",
     "output_type": "stream",
     "text": [
      "+--------------------+-------+------------------+\n",
      "|            features|  label|        prediction|\n",
      "+--------------------+-------+------------------+\n",
      "|(99,[0,1,2,3,4,5,...|13.1956|13.181938301506854|\n",
      "|(99,[0,1,2,3,4,5,...|12.1007| 12.57924121365834|\n",
      "|(99,[0,1,2,3,4,5,...|13.3113|13.181639092911304|\n",
      "|(99,[0,1,2,3,4,5,...|12.8992|12.899832588036503|\n",
      "|(99,[0,1,2,3,4,5,...|12.8866|12.783060974735694|\n",
      "+--------------------+-------+------------------+\n",
      "only showing top 5 rows\n",
      "\n"
     ]
    }
   ],
   "source": [
    "test_model.select( 'features', 'label', 'prediction' ).show( 5 )"
   ]
  },
  {
   "cell_type": "code",
   "execution_count": 72,
   "metadata": {
    "collapsed": true
   },
   "outputs": [],
   "source": [
    "y_pred = test_model"
   ]
  },
  {
   "cell_type": "markdown",
   "metadata": {},
   "source": [
    "Calculate the actual predicted price"
   ]
  },
  {
   "cell_type": "code",
   "execution_count": 73,
   "metadata": {
    "collapsed": true
   },
   "outputs": [],
   "source": [
    "from pyspark.sql.functions import exp\n",
    "\n",
    "y_pred = y_pred.withColumn( \"y_pred\", exp( 'prediction' ) )"
   ]
  },
  {
   "cell_type": "markdown",
   "metadata": {},
   "source": [
    "Calculate RMSE"
   ]
  },
  {
   "cell_type": "code",
   "execution_count": 74,
   "metadata": {
    "collapsed": true
   },
   "outputs": [],
   "source": [
    "from pyspark.ml.evaluation import RegressionEvaluator"
   ]
  },
  {
   "cell_type": "code",
   "execution_count": 75,
   "metadata": {
    "collapsed": true
   },
   "outputs": [],
   "source": [
    "rmse_evaluator = RegressionEvaluator(labelCol=\"price\",\n",
    "                              predictionCol=\"y_pred\",\n",
    "                              metricName=\"rmse\" )"
   ]
  },
  {
   "cell_type": "code",
   "execution_count": 76,
   "metadata": {
    "collapsed": true
   },
   "outputs": [],
   "source": [
    "lm_rmse = rmse_evaluator.evaluate( y_pred )"
   ]
  },
  {
   "cell_type": "code",
   "execution_count": 77,
   "metadata": {},
   "outputs": [
    {
     "data": {
      "text/plain": [
       "135702.71365440032"
      ]
     },
     "execution_count": 77,
     "metadata": {},
     "output_type": "execute_result"
    }
   ],
   "source": [
    "lm_rmse"
   ]
  },
  {
   "cell_type": "markdown",
   "metadata": {},
   "source": [
    "Calculate R-squared"
   ]
  },
  {
   "cell_type": "code",
   "execution_count": 78,
   "metadata": {
    "collapsed": true
   },
   "outputs": [],
   "source": [
    "r2_evaluator = RegressionEvaluator(labelCol=\"price\",\n",
    "                              predictionCol=\"y_pred\",\n",
    "                              metricName=\"r2\" )"
   ]
  },
  {
   "cell_type": "code",
   "execution_count": 79,
   "metadata": {
    "collapsed": true
   },
   "outputs": [],
   "source": [
    "lm_r2 = r2_evaluator.evaluate( y_pred )"
   ]
  },
  {
   "cell_type": "code",
   "execution_count": 80,
   "metadata": {},
   "outputs": [
    {
     "data": {
      "text/plain": [
       "0.8609376200480646"
      ]
     },
     "execution_count": 80,
     "metadata": {},
     "output_type": "execute_result"
    }
   ],
   "source": [
    "lm_r2"
   ]
  }
 ],
 "metadata": {
  "anaconda-cloud": {},
  "kernelspec": {
   "display_name": "Python 3",
   "language": "python",
   "name": "python3"
  },
  "language_info": {
   "codemirror_mode": {
    "name": "ipython",
    "version": 3
   },
   "file_extension": ".py",
   "mimetype": "text/x-python",
   "name": "python",
   "nbconvert_exporter": "python",
   "pygments_lexer": "ipython3",
   "version": "3.6.5"
  }
 },
 "nbformat": 4,
 "nbformat_minor": 2
}
